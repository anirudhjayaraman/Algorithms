{
 "cells": [
  {
   "cell_type": "markdown",
   "metadata": {},
   "source": [
    "## Solution to Programming Assignment Week 02 (Design and Analysis of Algorithms - I) of Tim Roughgarden's course"
   ]
  },
  {
   "cell_type": "markdown",
   "metadata": {},
   "source": [
    "#### Case I\n",
    "\n",
    "The integer list can be downloaded from https://gist.githubusercontent.com/anirudhjayaraman/ed3c0f2ae1377e9a5833906aa8fb78c3/raw/566eddfc25e64413f4ecd212a143c00a0749dedd/QuickSort_List.txt\n",
    "\n",
    "The file contains all of the integers between 1 and 10,000 (inclusive, with no repeats) in unsorted order. The integer in the ith row of the file gives you the ith entry of an input array.\n",
    "\n",
    "Your task is to compute the total number of comparisons used to sort the given input file by QuickSort. As you know, the number of comparisons depends on which elements are chosen as pivots, so we'll ask you to explore three different pivoting rules.\n",
    "\n",
    "You should not count comparisons one-by-one. Rather, when there is a recursive call on a subarray of length m, you should simply add m−1 to your running total of comparisons. (This is because the pivot element is compared to each of the other m−1 elements in the subarray in this recursive call.)\n",
    "\n",
    "WARNING: The Partition subroutine can be implemented in several different ways, and different implementations can give you differing numbers of comparisons. For this problem, you should implement the Partition subroutine exactly as it is described in the video lectures (otherwise you might get the wrong answer).\n",
    "\n",
    "DIRECTIONS FOR THIS PROBLEM:\n",
    "\n",
    "For the first part of the programming assignment, you should always use the first element of the array as the pivot element.\n",
    "\n",
    "HOW TO GIVE US YOUR ANSWER:\n",
    "\n",
    "Type the numeric answer in the space provided.\n",
    "\n",
    "So if your answer is 1198233847, then just type 1198233847 in the space provided without any space / commas / other punctuation marks. You have 5 attempts to get the correct answer.\n",
    "\n",
    "(We do not require you to submit your code, so feel free to use the programming language of your choice, just type the numeric answer in the following space.)\n",
    "\n"
   ]
  },
  {
   "cell_type": "code",
   "execution_count": 2,
   "metadata": {
    "collapsed": false
   },
   "outputs": [
    {
     "name": "stdout",
     "output_type": "stream",
     "text": [
      "162085\n"
     ]
    }
   ],
   "source": [
    "NUMLIST_FILENAME = \"QuickSort_List.txt\"\n",
    "# NUMLIST_FILENAME = \"1000.txt\"\n",
    "\n",
    "inFile = open(NUMLIST_FILENAME, 'r')\n",
    "\n",
    "with inFile as f:\n",
    "    numList = [int(integers.strip()) for integers in f.readlines()]\n",
    "\n",
    "count = 0\n",
    "\n",
    "def countComparisons(x):\n",
    "    global count\n",
    "    if len(x) == 1 or len(x) == 0:\n",
    "        return x\n",
    "    else:\n",
    "        count += len(x)-1\n",
    "        i = 0\n",
    "        for j in range(len(x)-1):\n",
    "            if x[j+1] < x[0]:\n",
    "                x[j+1],x[i+1] = x[i+1], x[j+1]\n",
    "                i += 1\n",
    "        x[0],x[i] = x[i],x[0]\n",
    "        first_part = countComparisons(x[:i])\n",
    "        second_part = countComparisons(x[i+1:])\n",
    "        first_part.append(x[i])\n",
    "        return first_part + second_part\n",
    "\n",
    "countComparisons(numList)\n",
    "print count"
   ]
  },
  {
   "cell_type": "markdown",
   "metadata": {},
   "source": [
    "#### Case II\n",
    "\n",
    "The integer list can be downloaded from https://gist.githubusercontent.com/anirudhjayaraman/ed3c0f2ae1377e9a5833906aa8fb78c3/raw/566eddfc25e64413f4ecd212a143c00a0749dedd/QuickSort_List.txt\n",
    "\n",
    "See the first question.\n",
    "\n",
    "DIRECTIONS FOR THIS PROBLEM:\n",
    "\n",
    "Compute the number of comparisons (as in Problem 1), always using the final element of the given array as the pivot element. Again, be sure to implement the Partition subroutine exactly as it is described in the video lectures.\n",
    "\n",
    "Recall from the lectures that, just before the main Partition subroutine, you should exchange the pivot element (i.e., the last element) with the first element.\n"
   ]
  },
  {
   "cell_type": "code",
   "execution_count": 3,
   "metadata": {
    "collapsed": false
   },
   "outputs": [
    {
     "name": "stdout",
     "output_type": "stream",
     "text": [
      "164123\n"
     ]
    }
   ],
   "source": [
    "NUMLIST_FILENAME = \"QuickSort_List.txt\"\n",
    "# NUMLIST_FILENAME = \"1000.txt\"\n",
    "\n",
    "inFile = open(NUMLIST_FILENAME, 'r')\n",
    "\n",
    "with inFile as f:\n",
    "    numList = [int(integers.strip()) for integers in f.readlines()]\n",
    "\n",
    "count = 0\n",
    "\n",
    "def countComparisons(x):\n",
    "    global count\n",
    "    if len(x) == 1 or len(x) == 0:\n",
    "        return x\n",
    "    else:\n",
    "        count += len(x)-1\n",
    "        x[0],x[-1] = x[-1],x[0]\n",
    "        i = 0\n",
    "        for j in range(len(x)-1):\n",
    "            if x[j+1] < x[0]:\n",
    "                x[j+1],x[i+1] = x[i+1], x[j+1]\n",
    "                i += 1\n",
    "        x[0],x[i] = x[i],x[0]\n",
    "        first_part = countComparisons(x[:i])\n",
    "        second_part = countComparisons(x[i+1:])\n",
    "        first_part.append(x[i])\n",
    "        return first_part + second_part\n",
    "\n",
    "countComparisons(numList)\n",
    "print count\n"
   ]
  },
  {
   "cell_type": "markdown",
   "metadata": {},
   "source": [
    "#### Case III - Median of 3 Pivot Rule\n",
    "\n",
    "The integer list can be downloaded from https://gist.githubusercontent.com/anirudhjayaraman/ed3c0f2ae1377e9a5833906aa8fb78c3/raw/566eddfc25e64413f4ecd212a143c00a0749dedd/QuickSort_List.txt\n",
    "\n",
    "See the first question.\n",
    "\n",
    "DIRECTIONS FOR THIS PROBLEM:\n",
    "\n",
    "Compute the number of comparisons (as in Problem 1), using the \"median-of-three\" pivot rule. [The primary motivation behind this rule is to do a little bit of extra work to get much better performance on input arrays that are nearly sorted or reverse sorted.] In more detail, you should choose the pivot as follows. Consider the first, middle, and final elements of the given array. (If the array has odd length it should be clear what the \"middle\" element is; for an array with even length 2k, use the kth element as the \"middle\" element. So for the array 4 5 6 7, the \"middle\" element is the second one ---- 5 and not 6!) Identify which of these three elements is the median (i.e., the one whose value is in between the other two), and use this as your pivot. As discussed in the first and second parts of this programming assignment, be sure to implement Partition exactly as described in the video lectures (including exchanging the pivot element with the first element just before the main Partition subroutine).\n",
    "\n",
    "EXAMPLE: For the input array 8 2 4 5 7 1 you would consider the first (8), middle (4), and last (1) elements; since 4 is the median of the set {1,4,8}, you would use 4 as your pivot element.\n",
    "\n",
    "SUBTLE POINT: A careful analysis would keep track of the comparisons made in identifying the median of the three candidate elements. You should NOT do this. That is, as in the previous two problems, you should simply add m−1 to your running total of comparisons every time you recurse on a subarray with length m."
   ]
  },
  {
   "cell_type": "code",
   "execution_count": 4,
   "metadata": {
    "collapsed": false
   },
   "outputs": [
    {
     "name": "stdout",
     "output_type": "stream",
     "text": [
      "138382\n"
     ]
    }
   ],
   "source": [
    "NUMLIST_FILENAME = \"QuickSort_List.txt\"\n",
    "# NUMLIST_FILENAME = \"1000.txt\"\n",
    "\n",
    "inFile = open(NUMLIST_FILENAME, 'r')\n",
    "\n",
    "with inFile as f:\n",
    "    numList = [int(integers.strip()) for integers in f.readlines()]\n",
    "\n",
    "count = 0\n",
    "\n",
    "def middle_index(x):\n",
    "    if len(x) % 2 == 0:\n",
    "        middle_index = len(x)/2 - 1\n",
    "    else:\n",
    "        middle_index = len(x)/2\n",
    "    return middle_index\n",
    "\n",
    "def median_index(x,i,j,k):\n",
    "    if (x[i]-x[j])*(x[i]-x[k]) < 0:\n",
    "        return i\n",
    "    elif (x[j]-x[i])*(x[j]-x[k]) < 0:\n",
    "        return j\n",
    "    else:\n",
    "        return k\n",
    "\n",
    "def countComparisons(x):\n",
    "    global count\n",
    "    if len(x) == 1 or len(x) == 0:\n",
    "        return x        \n",
    "    else:\n",
    "        count += len(x)-1\n",
    "        k = median_index(x, 0, middle_index(x), -1)\n",
    "        if k != 0: x[0], x[k] = x[k], x[0]\n",
    "        i = 0\n",
    "        for j in range(len(x)-1):\n",
    "            if x[j+1] < x[0]:\n",
    "                x[j+1],x[i+1] = x[i+1], x[j+1]\n",
    "                i += 1\n",
    "        x[0],x[i] = x[i],x[0]\n",
    "        first_part = countComparisons(x[:i])\n",
    "        second_part = countComparisons(x[i+1:])\n",
    "        first_part.append(x[i])\n",
    "        return first_part + second_part\n",
    "\n",
    "countComparisons(numList)\n",
    "print count\n"
   ]
  }
 ],
 "metadata": {
  "kernelspec": {
   "display_name": "Python 2",
   "language": "python",
   "name": "python2"
  },
  "language_info": {
   "codemirror_mode": {
    "name": "ipython",
    "version": 2
   },
   "file_extension": ".py",
   "mimetype": "text/x-python",
   "name": "python",
   "nbconvert_exporter": "python",
   "pygments_lexer": "ipython2",
   "version": "2.7.11"
  }
 },
 "nbformat": 4,
 "nbformat_minor": 0
}
